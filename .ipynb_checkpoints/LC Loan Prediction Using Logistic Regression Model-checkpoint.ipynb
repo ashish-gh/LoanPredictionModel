{
 "cells": [
  {
   "cell_type": "markdown",
   "metadata": {},
   "source": [
    "# Loan Prediction Using Logistic Regression"
   ]
  },
  {
   "cell_type": "markdown",
   "metadata": {},
   "source": [
    "### Importing Libraries"
   ]
  },
  {
   "cell_type": "code",
   "execution_count": 1,
   "metadata": {},
   "outputs": [],
   "source": [
    "import numpy as np\n",
    "import pandas as pd\n",
    "import matplotlib.pyplot as plt\n",
    "import seaborn as sns"
   ]
  },
  {
   "cell_type": "markdown",
   "metadata": {},
   "source": [
    "### Read Data"
   ]
  },
  {
   "cell_type": "code",
   "execution_count": 2,
   "metadata": {},
   "outputs": [],
   "source": [
    "# reading data from the csv file\n",
    "lc_data = pd.read_csv(\"LC2018_2019.csv\",sep='|')"
   ]
  },
  {
   "cell_type": "code",
   "execution_count": 3,
   "metadata": {},
   "outputs": [
    {
     "data": {
      "text/html": [
       "<div>\n",
       "<style scoped>\n",
       "    .dataframe tbody tr th:only-of-type {\n",
       "        vertical-align: middle;\n",
       "    }\n",
       "\n",
       "    .dataframe tbody tr th {\n",
       "        vertical-align: top;\n",
       "    }\n",
       "\n",
       "    .dataframe thead th {\n",
       "        text-align: right;\n",
       "    }\n",
       "</style>\n",
       "<table border=\"1\" class=\"dataframe\">\n",
       "  <thead>\n",
       "    <tr style=\"text-align: right;\">\n",
       "      <th></th>\n",
       "      <th>loan_id</th>\n",
       "      <th>loan_amnt</th>\n",
       "      <th>term</th>\n",
       "      <th>emp_title</th>\n",
       "      <th>emp_length</th>\n",
       "      <th>home_ownership</th>\n",
       "      <th>annual_inc</th>\n",
       "      <th>inc_verification_status</th>\n",
       "      <th>issue_date</th>\n",
       "      <th>purpose</th>\n",
       "      <th>zip_code</th>\n",
       "      <th>addr_state</th>\n",
       "      <th>application_type</th>\n",
       "    </tr>\n",
       "  </thead>\n",
       "  <tbody>\n",
       "    <tr>\n",
       "      <th>0</th>\n",
       "      <td>1810063</td>\n",
       "      <td>23000</td>\n",
       "      <td>60 months</td>\n",
       "      <td>IT Manager</td>\n",
       "      <td>4 years</td>\n",
       "      <td>MORTGAGE</td>\n",
       "      <td>110000.0</td>\n",
       "      <td>Source Verified</td>\n",
       "      <td>Mar-18</td>\n",
       "      <td>debt_consolidation</td>\n",
       "      <td>347xx</td>\n",
       "      <td>FL</td>\n",
       "      <td>Individual</td>\n",
       "    </tr>\n",
       "    <tr>\n",
       "      <th>1</th>\n",
       "      <td>1810064</td>\n",
       "      <td>35000</td>\n",
       "      <td>36 months</td>\n",
       "      <td>Accountant</td>\n",
       "      <td>9 years</td>\n",
       "      <td>MORTGAGE</td>\n",
       "      <td>450000.0</td>\n",
       "      <td>Source Verified</td>\n",
       "      <td>Mar-18</td>\n",
       "      <td>debt_consolidation</td>\n",
       "      <td>070xx</td>\n",
       "      <td>NJ</td>\n",
       "      <td>Individual</td>\n",
       "    </tr>\n",
       "    <tr>\n",
       "      <th>2</th>\n",
       "      <td>1810065</td>\n",
       "      <td>20000</td>\n",
       "      <td>60 months</td>\n",
       "      <td>Carpenter</td>\n",
       "      <td>10+ years</td>\n",
       "      <td>RENT</td>\n",
       "      <td>92000.0</td>\n",
       "      <td>Not Verified</td>\n",
       "      <td>Mar-18</td>\n",
       "      <td>other</td>\n",
       "      <td>116xx</td>\n",
       "      <td>NY</td>\n",
       "      <td>Individual</td>\n",
       "    </tr>\n",
       "    <tr>\n",
       "      <th>3</th>\n",
       "      <td>1810066</td>\n",
       "      <td>7000</td>\n",
       "      <td>36 months</td>\n",
       "      <td>Police officer</td>\n",
       "      <td>8 years</td>\n",
       "      <td>MORTGAGE</td>\n",
       "      <td>57000.0</td>\n",
       "      <td>Verified</td>\n",
       "      <td>Mar-18</td>\n",
       "      <td>debt_consolidation</td>\n",
       "      <td>276xx</td>\n",
       "      <td>NC</td>\n",
       "      <td>Individual</td>\n",
       "    </tr>\n",
       "    <tr>\n",
       "      <th>4</th>\n",
       "      <td>1810067</td>\n",
       "      <td>15000</td>\n",
       "      <td>36 months</td>\n",
       "      <td>Clerk</td>\n",
       "      <td>2 years</td>\n",
       "      <td>MORTGAGE</td>\n",
       "      <td>86000.0</td>\n",
       "      <td>Not Verified</td>\n",
       "      <td>Mar-18</td>\n",
       "      <td>home_improvement</td>\n",
       "      <td>926xx</td>\n",
       "      <td>CA</td>\n",
       "      <td>Individual</td>\n",
       "    </tr>\n",
       "  </tbody>\n",
       "</table>\n",
       "</div>"
      ],
      "text/plain": [
       "   loan_id  loan_amnt       term       emp_title emp_length home_ownership  \\\n",
       "0  1810063      23000  60 months      IT Manager    4 years       MORTGAGE   \n",
       "1  1810064      35000  36 months      Accountant    9 years       MORTGAGE   \n",
       "2  1810065      20000  60 months       Carpenter  10+ years           RENT   \n",
       "3  1810066       7000  36 months  Police officer    8 years       MORTGAGE   \n",
       "4  1810067      15000  36 months           Clerk    2 years       MORTGAGE   \n",
       "\n",
       "   annual_inc inc_verification_status issue_date             purpose zip_code  \\\n",
       "0    110000.0         Source Verified     Mar-18  debt_consolidation    347xx   \n",
       "1    450000.0         Source Verified     Mar-18  debt_consolidation    070xx   \n",
       "2     92000.0            Not Verified     Mar-18               other    116xx   \n",
       "3     57000.0                Verified     Mar-18  debt_consolidation    276xx   \n",
       "4     86000.0            Not Verified     Mar-18    home_improvement    926xx   \n",
       "\n",
       "  addr_state application_type  \n",
       "0         FL       Individual  \n",
       "1         NJ       Individual  \n",
       "2         NY       Individual  \n",
       "3         NC       Individual  \n",
       "4         CA       Individual  "
      ]
     },
     "execution_count": 3,
     "metadata": {},
     "output_type": "execute_result"
    }
   ],
   "source": [
    "# top rows of given dataset\n",
    "lc_data.head()"
   ]
  },
  {
   "cell_type": "markdown",
   "metadata": {},
   "source": [
    "### Feature Scaling"
   ]
  },
  {
   "cell_type": "code",
   "execution_count": 4,
   "metadata": {},
   "outputs": [],
   "source": [
    "# feature scaling\n",
    "lc_data = lc_data[['loan_id',\n",
    "                  'loan_amnt',\n",
    "                  'emp_title',\n",
    "                  'emp_length',\n",
    "                  'home_ownership',\n",
    "                  'annual_inc',\n",
    "                  'term']]"
   ]
  },
  {
   "cell_type": "code",
   "execution_count": 5,
   "metadata": {},
   "outputs": [
    {
     "data": {
      "text/plain": [
       "loan_id           7556\n",
       "loan_amnt         7556\n",
       "emp_title         6644\n",
       "emp_length        6908\n",
       "home_ownership    7556\n",
       "annual_inc        7556\n",
       "term              7556\n",
       "dtype: int64"
      ]
     },
     "execution_count": 5,
     "metadata": {},
     "output_type": "execute_result"
    }
   ],
   "source": [
    "# total number of data on each column\n",
    "lc_data.count()"
   ]
  },
  {
   "cell_type": "markdown",
   "metadata": {},
   "source": [
    "##### Above information shows that emp_title and emp_length has less number of data due to null values as lc_data.count() does not count null values"
   ]
  },
  {
   "cell_type": "markdown",
   "metadata": {},
   "source": [
    "### Visualisation and Exploratory Data Analysis"
   ]
  },
  {
   "cell_type": "code",
   "execution_count": 6,
   "metadata": {},
   "outputs": [
    {
     "data": {
      "text/plain": [
       "loan_id             0\n",
       "loan_amnt           0\n",
       "emp_title         912\n",
       "emp_length        648\n",
       "home_ownership      0\n",
       "annual_inc          0\n",
       "term                0\n",
       "dtype: int64"
      ]
     },
     "execution_count": 6,
     "metadata": {},
     "output_type": "execute_result"
    }
   ],
   "source": [
    "lc_data.isnull().sum()"
   ]
  },
  {
   "cell_type": "markdown",
   "metadata": {},
   "source": [
    "##### Above information shows the total null values in emp_title and emp_length\n"
   ]
  },
  {
   "cell_type": "markdown",
   "metadata": {},
   "source": [
    "##### Now, we visualise the missing values using seaborn which is a data visualisation library in matplotlib"
   ]
  },
  {
   "cell_type": "code",
   "execution_count": 7,
   "metadata": {},
   "outputs": [
    {
     "data": {
      "text/plain": [
       "<matplotlib.axes._subplots.AxesSubplot at 0x7fcae7824a90>"
      ]
     },
     "execution_count": 7,
     "metadata": {},
     "output_type": "execute_result"
    },
    {
     "data": {
      "image/png": "[encoded data removed]",
      "text/plain": [
       "<Figure size 720x432 with 1 Axes>"
      ]
     },
     "metadata": {
      "needs_background": "light"
     },
     "output_type": "display_data"
    }
   ],
   "source": [
    "plt.figure(figsize=(10,6))\n",
    "sns.heatmap(lc_data.isnull(),yticklabels=False,cbar=False,cmap='viridis')"
   ]
  },
  {
   "cell_type": "markdown",
   "metadata": {},
   "source": [
    "##### We have to fill the missing emp_length data instead of just dropping the column. So, we fill the missing values by assigning the average emp_length"
   ]
  },
  {
   "cell_type": "code",
   "execution_count": 8,
   "metadata": {},
   "outputs": [
    {
     "data": {
      "text/plain": [
       "array(['4 years', '9 years', '10+ years', '8 years', '2 years',\n",
       "       '< 1 year', '1 year', nan, '3 years', '5 years', '6 years',\n",
       "       '7 years'], dtype=object)"
      ]
     },
     "execution_count": 8,
     "metadata": {},
     "output_type": "execute_result"
    }
   ],
   "source": [
    "lc_data.emp_length.unique()"
   ]
  },
  {
   "cell_type": "markdown",
   "metadata": {},
   "source": [
    "##### Data Pre-Processing"
   ]
  },
  {
   "cell_type": "code",
   "execution_count": 9,
   "metadata": {},
   "outputs": [],
   "source": [
    "# Data preprocessing of emp_length\n",
    "\n",
    "emp_length_mapping = {\n",
    "    '< 1 year':0,\n",
    "    '1 year':1,\n",
    "    '2 years':2,\n",
    "    '3 years':3,\n",
    "    '4 years':4,\n",
    "    '5 years':5,\n",
    "    '6 years':6,\n",
    "    '7 years':7,\n",
    "    '8 years':8,\n",
    "    '9 years':9,\n",
    "    '10+ years':10,\n",
    "    \n",
    "}\n",
    "lc_data.emp_length = lc_data.emp_length.map(emp_length_mapping)"
   ]
  },
  {
   "cell_type": "code",
   "execution_count": 10,
   "metadata": {},
   "outputs": [
    {
     "data": {
      "text/plain": [
       "<matplotlib.axes._subplots.AxesSubplot at 0x7fcae55d27d0>"
      ]
     },
     "execution_count": 10,
     "metadata": {},
     "output_type": "execute_result"
    },
    {
     "data": {
      "image/png": "[encoded data removed]",
      "text/plain": [
       "<Figure size 720x432 with 1 Axes>"
      ]
     },
     "metadata": {
      "needs_background": "light"
     },
     "output_type": "display_data"
    }
   ],
   "source": [
    "plt.figure(figsize=(10,6))\n",
    "sns.boxplot(y='emp_length',data = lc_data, palette='rainbow')"
   ]
  },
  {
   "cell_type": "code",
   "execution_count": 11,
   "metadata": {},
   "outputs": [],
   "source": [
    "# Assigining mean of employee length to null values in emp_length field\n",
    "lc_data.emp_length = lc_data.emp_length.fillna(round(lc_data.emp_length.mean(),0))"
   ]
  },
  {
   "cell_type": "code",
   "execution_count": 12,
   "metadata": {},
   "outputs": [
    {
     "data": {
      "text/plain": [
       "<matplotlib.axes._subplots.AxesSubplot at 0x7fcae5548a50>"
      ]
     },
     "execution_count": 12,
     "metadata": {},
     "output_type": "execute_result"
    },
    {
     "data": {
      "image/png": "[encoded data removed]",
      "text/plain": [
       "<Figure size 720x432 with 1 Axes>"
      ]
     },
     "metadata": {
      "needs_background": "light"
     },
     "output_type": "display_data"
    }
   ],
   "source": [
    "# Checking missing values are filled or not\n",
    "plt.figure(figsize=(10,6))\n",
    "sns.heatmap(lc_data.isnull(),yticklabels=False,cbar=False,cmap='viridis')"
   ]
  },
  {
   "cell_type": "markdown",
   "metadata": {},
   "source": [
    "##### Above heatmap shows that the emp_length null values have been filled up by the mean of employee length. We still have null values in emp_title"
   ]
  },
  {
   "cell_type": "code",
   "execution_count": 13,
   "metadata": {},
   "outputs": [
    {
     "data": {
      "text/plain": [
       "loan_id             0\n",
       "loan_amnt           0\n",
       "emp_title         912\n",
       "emp_length          0\n",
       "home_ownership      0\n",
       "annual_inc          0\n",
       "term                0\n",
       "dtype: int64"
      ]
     },
     "execution_count": 13,
     "metadata": {},
     "output_type": "execute_result"
    }
   ],
   "source": [
    "lc_data.isnull().sum()"
   ]
  },
  {
   "cell_type": "code",
   "execution_count": 14,
   "metadata": {},
   "outputs": [],
   "source": [
    "# Dropping emp_title null values\n",
    "lc_data = lc_data.dropna()"
   ]
  },
  {
   "cell_type": "code",
   "execution_count": 15,
   "metadata": {},
   "outputs": [
    {
     "data": {
      "text/plain": [
       "loan_id           0\n",
       "loan_amnt         0\n",
       "emp_title         0\n",
       "emp_length        0\n",
       "home_ownership    0\n",
       "annual_inc        0\n",
       "term              0\n",
       "dtype: int64"
      ]
     },
     "execution_count": 15,
     "metadata": {},
     "output_type": "execute_result"
    }
   ],
   "source": [
    "lc_data.isnull().sum()"
   ]
  },
  {
   "cell_type": "code",
   "execution_count": 16,
   "metadata": {},
   "outputs": [
    {
     "data": {
      "text/plain": [
       "<matplotlib.axes._subplots.AxesSubplot at 0x7fcae530e950>"
      ]
     },
     "execution_count": 16,
     "metadata": {},
     "output_type": "execute_result"
    },
    {
     "data": {
      "image/png": "[encoded data removed]",
      "text/plain": [
       "<Figure size 720x432 with 1 Axes>"
      ]
     },
     "metadata": {
      "needs_background": "light"
     },
     "output_type": "display_data"
    }
   ],
   "source": [
    "# Checking missing values\n",
    "plt.figure(figsize=(10,6))\n",
    "sns.heatmap(lc_data.isnull(),yticklabels=False,cbar=False,cmap='viridis')"
   ]
  },
  {
   "cell_type": "code",
   "execution_count": 17,
   "metadata": {},
   "outputs": [
    {
     "name": "stdout",
     "output_type": "stream",
     "text": [
      "<class 'pandas.core.frame.DataFrame'>\n",
      "Int64Index: 6644 entries, 0 to 7555\n",
      "Data columns (total 7 columns):\n",
      "loan_id           6644 non-null int64\n",
      "loan_amnt         6644 non-null int64\n",
      "emp_title         6644 non-null object\n",
      "emp_length        6644 non-null float64\n",
      "home_ownership    6644 non-null object\n",
      "annual_inc        6644 non-null float64\n",
      "term              6644 non-null object\n",
      "dtypes: float64(2), int64(2), object(3)\n",
      "memory usage: 415.2+ KB\n"
     ]
    }
   ],
   "source": [
    "lc_data.info()"
   ]
  },
  {
   "cell_type": "markdown",
   "metadata": {},
   "source": [
    "##### Above information shows that emp_title, home_ownership, term are object data types which needs to be convert into integer"
   ]
  },
  {
   "cell_type": "code",
   "execution_count": 18,
   "metadata": {},
   "outputs": [
    {
     "data": {
      "text/html": [
       "<div>\n",
       "<style scoped>\n",
       "    .dataframe tbody tr th:only-of-type {\n",
       "        vertical-align: middle;\n",
       "    }\n",
       "\n",
       "    .dataframe tbody tr th {\n",
       "        vertical-align: top;\n",
       "    }\n",
       "\n",
       "    .dataframe thead th {\n",
       "        text-align: right;\n",
       "    }\n",
       "</style>\n",
       "<table border=\"1\" class=\"dataframe\">\n",
       "  <thead>\n",
       "    <tr style=\"text-align: right;\">\n",
       "      <th></th>\n",
       "      <th>loan_id</th>\n",
       "      <th>loan_amnt</th>\n",
       "      <th>emp_title</th>\n",
       "      <th>emp_length</th>\n",
       "      <th>home_ownership</th>\n",
       "      <th>annual_inc</th>\n",
       "      <th>term</th>\n",
       "    </tr>\n",
       "  </thead>\n",
       "  <tbody>\n",
       "    <tr>\n",
       "      <th>0</th>\n",
       "      <td>1810063</td>\n",
       "      <td>23000</td>\n",
       "      <td>IT Manager</td>\n",
       "      <td>4.0</td>\n",
       "      <td>MORTGAGE</td>\n",
       "      <td>110000.0</td>\n",
       "      <td>60 months</td>\n",
       "    </tr>\n",
       "    <tr>\n",
       "      <th>1</th>\n",
       "      <td>1810064</td>\n",
       "      <td>35000</td>\n",
       "      <td>Accountant</td>\n",
       "      <td>9.0</td>\n",
       "      <td>MORTGAGE</td>\n",
       "      <td>450000.0</td>\n",
       "      <td>36 months</td>\n",
       "    </tr>\n",
       "    <tr>\n",
       "      <th>2</th>\n",
       "      <td>1810065</td>\n",
       "      <td>20000</td>\n",
       "      <td>Carpenter</td>\n",
       "      <td>10.0</td>\n",
       "      <td>RENT</td>\n",
       "      <td>92000.0</td>\n",
       "      <td>60 months</td>\n",
       "    </tr>\n",
       "    <tr>\n",
       "      <th>3</th>\n",
       "      <td>1810066</td>\n",
       "      <td>7000</td>\n",
       "      <td>Police officer</td>\n",
       "      <td>8.0</td>\n",
       "      <td>MORTGAGE</td>\n",
       "      <td>57000.0</td>\n",
       "      <td>36 months</td>\n",
       "    </tr>\n",
       "    <tr>\n",
       "      <th>4</th>\n",
       "      <td>1810067</td>\n",
       "      <td>15000</td>\n",
       "      <td>Clerk</td>\n",
       "      <td>2.0</td>\n",
       "      <td>MORTGAGE</td>\n",
       "      <td>86000.0</td>\n",
       "      <td>36 months</td>\n",
       "    </tr>\n",
       "  </tbody>\n",
       "</table>\n",
       "</div>"
      ],
      "text/plain": [
       "   loan_id  loan_amnt       emp_title  emp_length home_ownership  annual_inc  \\\n",
       "0  1810063      23000      IT Manager         4.0       MORTGAGE    110000.0   \n",
       "1  1810064      35000      Accountant         9.0       MORTGAGE    450000.0   \n",
       "2  1810065      20000       Carpenter        10.0           RENT     92000.0   \n",
       "3  1810066       7000  Police officer         8.0       MORTGAGE     57000.0   \n",
       "4  1810067      15000           Clerk         2.0       MORTGAGE     86000.0   \n",
       "\n",
       "        term  \n",
       "0  60 months  \n",
       "1  36 months  \n",
       "2  60 months  \n",
       "3  36 months  \n",
       "4  36 months  "
      ]
     },
     "execution_count": 18,
     "metadata": {},
     "output_type": "execute_result"
    }
   ],
   "source": [
    "lc_data.head()"
   ]
  },
  {
   "cell_type": "markdown",
   "metadata": {},
   "source": [
    "##### changing data type of home_ownership"
   ]
  },
  {
   "cell_type": "code",
   "execution_count": 19,
   "metadata": {},
   "outputs": [
    {
     "data": {
      "text/plain": [
       "array(['MORTGAGE', 'RENT', 'OWN'], dtype=object)"
      ]
     },
     "execution_count": 19,
     "metadata": {},
     "output_type": "execute_result"
    }
   ],
   "source": [
    "lc_data.home_ownership.unique()"
   ]
  },
  {
   "cell_type": "code",
   "execution_count": 20,
   "metadata": {},
   "outputs": [
    {
     "data": {
      "text/plain": [
       "MORTGAGE    3253\n",
       "RENT        2681\n",
       "OWN          710\n",
       "Name: home_ownership, dtype: int64"
      ]
     },
     "execution_count": 20,
     "metadata": {},
     "output_type": "execute_result"
    }
   ],
   "source": [
    "lc_data.home_ownership.value_counts()"
   ]
  },
  {
   "cell_type": "code",
   "execution_count": 21,
   "metadata": {},
   "outputs": [
    {
     "data": {
      "text/plain": [
       "<matplotlib.axes._subplots.AxesSubplot at 0x7fcae53032d0>"
      ]
     },
     "execution_count": 21,
     "metadata": {},
     "output_type": "execute_result"
    },
    {
     "data": {
      "image/png": "[encoded data removed]",
      "text/plain": [
       "<Figure size 432x288 with 1 Axes>"
      ]
     },
     "metadata": {
      "needs_background": "light"
     },
     "output_type": "display_data"
    }
   ],
   "source": [
    "sns.countplot(x='home_ownership',data=lc_data)"
   ]
  },
  {
   "cell_type": "code",
   "execution_count": 22,
   "metadata": {},
   "outputs": [],
   "source": [
    "# encoding categorical values in home_ownership\n",
    "\n",
    "home_ownership_mapping = {\n",
    "    'MORTGAGE':1,\n",
    "    'RENT':2,\n",
    "    'OWN':3\n",
    "}\n",
    "lc_data.home_ownership = lc_data.home_ownership.map(home_ownership_mapping)"
   ]
  },
  {
   "cell_type": "code",
   "execution_count": 23,
   "metadata": {},
   "outputs": [
    {
     "data": {
      "text/html": [
       "<div>\n",
       "<style scoped>\n",
       "    .dataframe tbody tr th:only-of-type {\n",
       "        vertical-align: middle;\n",
       "    }\n",
       "\n",
       "    .dataframe tbody tr th {\n",
       "        vertical-align: top;\n",
       "    }\n",
       "\n",
       "    .dataframe thead th {\n",
       "        text-align: right;\n",
       "    }\n",
       "</style>\n",
       "<table border=\"1\" class=\"dataframe\">\n",
       "  <thead>\n",
       "    <tr style=\"text-align: right;\">\n",
       "      <th></th>\n",
       "      <th>loan_id</th>\n",
       "      <th>loan_amnt</th>\n",
       "      <th>emp_title</th>\n",
       "      <th>emp_length</th>\n",
       "      <th>home_ownership</th>\n",
       "      <th>annual_inc</th>\n",
       "      <th>term</th>\n",
       "    </tr>\n",
       "  </thead>\n",
       "  <tbody>\n",
       "    <tr>\n",
       "      <th>0</th>\n",
       "      <td>1810063</td>\n",
       "      <td>23000</td>\n",
       "      <td>IT Manager</td>\n",
       "      <td>4.0</td>\n",
       "      <td>1</td>\n",
       "      <td>110000.0</td>\n",
       "      <td>60 months</td>\n",
       "    </tr>\n",
       "    <tr>\n",
       "      <th>1</th>\n",
       "      <td>1810064</td>\n",
       "      <td>35000</td>\n",
       "      <td>Accountant</td>\n",
       "      <td>9.0</td>\n",
       "      <td>1</td>\n",
       "      <td>450000.0</td>\n",
       "      <td>36 months</td>\n",
       "    </tr>\n",
       "    <tr>\n",
       "      <th>2</th>\n",
       "      <td>1810065</td>\n",
       "      <td>20000</td>\n",
       "      <td>Carpenter</td>\n",
       "      <td>10.0</td>\n",
       "      <td>2</td>\n",
       "      <td>92000.0</td>\n",
       "      <td>60 months</td>\n",
       "    </tr>\n",
       "    <tr>\n",
       "      <th>3</th>\n",
       "      <td>1810066</td>\n",
       "      <td>7000</td>\n",
       "      <td>Police officer</td>\n",
       "      <td>8.0</td>\n",
       "      <td>1</td>\n",
       "      <td>57000.0</td>\n",
       "      <td>36 months</td>\n",
       "    </tr>\n",
       "    <tr>\n",
       "      <th>4</th>\n",
       "      <td>1810067</td>\n",
       "      <td>15000</td>\n",
       "      <td>Clerk</td>\n",
       "      <td>2.0</td>\n",
       "      <td>1</td>\n",
       "      <td>86000.0</td>\n",
       "      <td>36 months</td>\n",
       "    </tr>\n",
       "  </tbody>\n",
       "</table>\n",
       "</div>"
      ],
      "text/plain": [
       "   loan_id  loan_amnt       emp_title  emp_length  home_ownership  annual_inc  \\\n",
       "0  1810063      23000      IT Manager         4.0               1    110000.0   \n",
       "1  1810064      35000      Accountant         9.0               1    450000.0   \n",
       "2  1810065      20000       Carpenter        10.0               2     92000.0   \n",
       "3  1810066       7000  Police officer         8.0               1     57000.0   \n",
       "4  1810067      15000           Clerk         2.0               1     86000.0   \n",
       "\n",
       "        term  \n",
       "0  60 months  \n",
       "1  36 months  \n",
       "2  60 months  \n",
       "3  36 months  \n",
       "4  36 months  "
      ]
     },
     "execution_count": 23,
     "metadata": {},
     "output_type": "execute_result"
    }
   ],
   "source": [
    "lc_data.head()"
   ]
  },
  {
   "cell_type": "markdown",
   "metadata": {},
   "source": [
    "##### changing data type of emp_title"
   ]
  },
  {
   "cell_type": "code",
   "execution_count": 24,
   "metadata": {},
   "outputs": [
    {
     "data": {
      "text/plain": [
       "array(['IT Manager', 'Accountant', 'Carpenter', 'Police officer', 'Clerk',\n",
       "       'Security Officer', 'Supervisor', 'Realtor', 'Sales Manager',\n",
       "       'Electrician', 'Chef', 'Attorney', 'Teacher', 'Engineer', 'Nurse',\n",
       "       'Mechanic', 'Truck Driver', 'Bartender', 'Office Manager',\n",
       "       'Principal'], dtype=object)"
      ]
     },
     "execution_count": 24,
     "metadata": {},
     "output_type": "execute_result"
    }
   ],
   "source": [
    "lc_data.emp_title.unique()"
   ]
  },
  {
   "cell_type": "code",
   "execution_count": 25,
   "metadata": {},
   "outputs": [
    {
     "data": {
      "text/plain": [
       "Security Officer    792\n",
       "Chef                521\n",
       "Accountant          516\n",
       "Supervisor          452\n",
       "Police officer      409\n",
       "Electrician         327\n",
       "Nurse               321\n",
       "Carpenter           315\n",
       "Engineer            308\n",
       "Attorney            304\n",
       "Office Manager      303\n",
       "Sales Manager       301\n",
       "Truck Driver        276\n",
       "Realtor             268\n",
       "Mechanic            266\n",
       "Clerk               266\n",
       "Principal           207\n",
       "Bartender           205\n",
       "IT Manager          159\n",
       "Teacher             128\n",
       "Name: emp_title, dtype: int64"
      ]
     },
     "execution_count": 25,
     "metadata": {},
     "output_type": "execute_result"
    }
   ],
   "source": [
    "lc_data.emp_title.value_counts()"
   ]
  },
  {
   "cell_type": "code",
   "execution_count": 26,
   "metadata": {},
   "outputs": [
    {
     "data": {
      "text/plain": [
       "<matplotlib.axes._subplots.AxesSubplot at 0x7fcae50f9450>"
      ]
     },
     "execution_count": 26,
     "metadata": {},
     "output_type": "execute_result"
    },
    {
     "data": {
      "image/png": "[encoded data removed]",
      "text/plain": [
       "<Figure size 1440x1440 with 1 Axes>"
      ]
     },
     "metadata": {
      "needs_background": "light"
     },
     "output_type": "display_data"
    }
   ],
   "source": [
    "plt.figure(figsize=(20, 20))\n",
    "sns.countplot(x='emp_title',data=lc_data)"
   ]
  },
  {
   "cell_type": "code",
   "execution_count": 27,
   "metadata": {},
   "outputs": [],
   "source": [
    "# Encoding categorical values in emp_title\n",
    "\n",
    "emp_title_mapping = {\n",
    "    'Truck Driver': 1,\n",
    "    'Electrician': 2,\n",
    "    'Carpenter': 3,\n",
    "    'Attorney': 4,\n",
    "    'Sales Manager': 5,\n",
    "    'Teacher': 6,\n",
    "    'Nurse': 7,\n",
    "    'Bartender': 8,\n",
    "    'Engineer': 9,\n",
    "    'Supervisor': 10,\n",
    "    'Clerk': 11,\n",
    "    'Accountant': 13,\n",
    "    'IT Manager': 13,\n",
    "    'Police officer': 14,\n",
    "    'Realtor': 15,\n",
    "    'Office Manager': 16,\n",
    "    'Mechanic': 17,\n",
    "    'Chef': 18,\n",
    "    'Security Officer': 19,\n",
    "    'Principal': 20\n",
    "}\n",
    "\n",
    "lc_data.emp_title = lc_data.emp_title.map(emp_title_mapping)"
   ]
  },
  {
   "cell_type": "code",
   "execution_count": 28,
   "metadata": {},
   "outputs": [
    {
     "data": {
      "text/html": [
       "<div>\n",
       "<style scoped>\n",
       "    .dataframe tbody tr th:only-of-type {\n",
       "        vertical-align: middle;\n",
       "    }\n",
       "\n",
       "    .dataframe tbody tr th {\n",
       "        vertical-align: top;\n",
       "    }\n",
       "\n",
       "    .dataframe thead th {\n",
       "        text-align: right;\n",
       "    }\n",
       "</style>\n",
       "<table border=\"1\" class=\"dataframe\">\n",
       "  <thead>\n",
       "    <tr style=\"text-align: right;\">\n",
       "      <th></th>\n",
       "      <th>loan_id</th>\n",
       "      <th>loan_amnt</th>\n",
       "      <th>emp_title</th>\n",
       "      <th>emp_length</th>\n",
       "      <th>home_ownership</th>\n",
       "      <th>annual_inc</th>\n",
       "      <th>term</th>\n",
       "    </tr>\n",
       "  </thead>\n",
       "  <tbody>\n",
       "    <tr>\n",
       "      <th>0</th>\n",
       "      <td>1810063</td>\n",
       "      <td>23000</td>\n",
       "      <td>13</td>\n",
       "      <td>4.0</td>\n",
       "      <td>1</td>\n",
       "      <td>110000.0</td>\n",
       "      <td>60 months</td>\n",
       "    </tr>\n",
       "    <tr>\n",
       "      <th>1</th>\n",
       "      <td>1810064</td>\n",
       "      <td>35000</td>\n",
       "      <td>13</td>\n",
       "      <td>9.0</td>\n",
       "      <td>1</td>\n",
       "      <td>450000.0</td>\n",
       "      <td>36 months</td>\n",
       "    </tr>\n",
       "    <tr>\n",
       "      <th>2</th>\n",
       "      <td>1810065</td>\n",
       "      <td>20000</td>\n",
       "      <td>3</td>\n",
       "      <td>10.0</td>\n",
       "      <td>2</td>\n",
       "      <td>92000.0</td>\n",
       "      <td>60 months</td>\n",
       "    </tr>\n",
       "    <tr>\n",
       "      <th>3</th>\n",
       "      <td>1810066</td>\n",
       "      <td>7000</td>\n",
       "      <td>14</td>\n",
       "      <td>8.0</td>\n",
       "      <td>1</td>\n",
       "      <td>57000.0</td>\n",
       "      <td>36 months</td>\n",
       "    </tr>\n",
       "    <tr>\n",
       "      <th>4</th>\n",
       "      <td>1810067</td>\n",
       "      <td>15000</td>\n",
       "      <td>11</td>\n",
       "      <td>2.0</td>\n",
       "      <td>1</td>\n",
       "      <td>86000.0</td>\n",
       "      <td>36 months</td>\n",
       "    </tr>\n",
       "  </tbody>\n",
       "</table>\n",
       "</div>"
      ],
      "text/plain": [
       "   loan_id  loan_amnt  emp_title  emp_length  home_ownership  annual_inc  \\\n",
       "0  1810063      23000         13         4.0               1    110000.0   \n",
       "1  1810064      35000         13         9.0               1    450000.0   \n",
       "2  1810065      20000          3        10.0               2     92000.0   \n",
       "3  1810066       7000         14         8.0               1     57000.0   \n",
       "4  1810067      15000         11         2.0               1     86000.0   \n",
       "\n",
       "        term  \n",
       "0  60 months  \n",
       "1  36 months  \n",
       "2  60 months  \n",
       "3  36 months  \n",
       "4  36 months  "
      ]
     },
     "execution_count": 28,
     "metadata": {},
     "output_type": "execute_result"
    }
   ],
   "source": [
    "lc_data.head()"
   ]
  },
  {
   "cell_type": "markdown",
   "metadata": {},
   "source": [
    "##### changing data type of term"
   ]
  },
  {
   "cell_type": "code",
   "execution_count": 29,
   "metadata": {},
   "outputs": [
    {
     "data": {
      "text/plain": [
       "array(['60 months', '36 months'], dtype=object)"
      ]
     },
     "execution_count": 29,
     "metadata": {},
     "output_type": "execute_result"
    }
   ],
   "source": [
    "lc_data.term.unique()"
   ]
  },
  {
   "cell_type": "code",
   "execution_count": 30,
   "metadata": {},
   "outputs": [
    {
     "data": {
      "text/plain": [
       "36 months    4433\n",
       "60 months    2211\n",
       "Name: term, dtype: int64"
      ]
     },
     "execution_count": 30,
     "metadata": {},
     "output_type": "execute_result"
    }
   ],
   "source": [
    "lc_data.term.value_counts()"
   ]
  },
  {
   "cell_type": "code",
   "execution_count": 31,
   "metadata": {},
   "outputs": [
    {
     "data": {
      "text/plain": [
       "<matplotlib.axes._subplots.AxesSubplot at 0x7fcae5044810>"
      ]
     },
     "execution_count": 31,
     "metadata": {},
     "output_type": "execute_result"
    },
    {
     "data": {
      "image/png": "[encoded data removed]",
      "text/plain": [
       "<Figure size 432x288 with 1 Axes>"
      ]
     },
     "metadata": {
      "needs_background": "light"
     },
     "output_type": "display_data"
    }
   ],
   "source": [
    "sns.countplot(x='term',data=lc_data)"
   ]
  },
  {
   "cell_type": "code",
   "execution_count": 32,
   "metadata": {},
   "outputs": [],
   "source": [
    "# Encoding categorical values in term\n",
    "\n",
    "term_mapping = {\n",
    "    '36 months' : 0,\n",
    "    '60 months'  : 1\n",
    "    \n",
    "}\n",
    "lc_data.term = lc_data.term.map(term_mapping)\n"
   ]
  },
  {
   "cell_type": "code",
   "execution_count": 33,
   "metadata": {},
   "outputs": [
    {
     "data": {
      "text/html": [
       "<div>\n",
       "<style scoped>\n",
       "    .dataframe tbody tr th:only-of-type {\n",
       "        vertical-align: middle;\n",
       "    }\n",
       "\n",
       "    .dataframe tbody tr th {\n",
       "        vertical-align: top;\n",
       "    }\n",
       "\n",
       "    .dataframe thead th {\n",
       "        text-align: right;\n",
       "    }\n",
       "</style>\n",
       "<table border=\"1\" class=\"dataframe\">\n",
       "  <thead>\n",
       "    <tr style=\"text-align: right;\">\n",
       "      <th></th>\n",
       "      <th>loan_id</th>\n",
       "      <th>loan_amnt</th>\n",
       "      <th>emp_title</th>\n",
       "      <th>emp_length</th>\n",
       "      <th>home_ownership</th>\n",
       "      <th>annual_inc</th>\n",
       "      <th>term</th>\n",
       "    </tr>\n",
       "  </thead>\n",
       "  <tbody>\n",
       "    <tr>\n",
       "      <th>0</th>\n",
       "      <td>1810063</td>\n",
       "      <td>23000</td>\n",
       "      <td>13</td>\n",
       "      <td>4.0</td>\n",
       "      <td>1</td>\n",
       "      <td>110000.0</td>\n",
       "      <td>1</td>\n",
       "    </tr>\n",
       "    <tr>\n",
       "      <th>1</th>\n",
       "      <td>1810064</td>\n",
       "      <td>35000</td>\n",
       "      <td>13</td>\n",
       "      <td>9.0</td>\n",
       "      <td>1</td>\n",
       "      <td>450000.0</td>\n",
       "      <td>0</td>\n",
       "    </tr>\n",
       "    <tr>\n",
       "      <th>2</th>\n",
       "      <td>1810065</td>\n",
       "      <td>20000</td>\n",
       "      <td>3</td>\n",
       "      <td>10.0</td>\n",
       "      <td>2</td>\n",
       "      <td>92000.0</td>\n",
       "      <td>1</td>\n",
       "    </tr>\n",
       "    <tr>\n",
       "      <th>3</th>\n",
       "      <td>1810066</td>\n",
       "      <td>7000</td>\n",
       "      <td>14</td>\n",
       "      <td>8.0</td>\n",
       "      <td>1</td>\n",
       "      <td>57000.0</td>\n",
       "      <td>0</td>\n",
       "    </tr>\n",
       "    <tr>\n",
       "      <th>4</th>\n",
       "      <td>1810067</td>\n",
       "      <td>15000</td>\n",
       "      <td>11</td>\n",
       "      <td>2.0</td>\n",
       "      <td>1</td>\n",
       "      <td>86000.0</td>\n",
       "      <td>0</td>\n",
       "    </tr>\n",
       "  </tbody>\n",
       "</table>\n",
       "</div>"
      ],
      "text/plain": [
       "   loan_id  loan_amnt  emp_title  emp_length  home_ownership  annual_inc  term\n",
       "0  1810063      23000         13         4.0               1    110000.0     1\n",
       "1  1810064      35000         13         9.0               1    450000.0     0\n",
       "2  1810065      20000          3        10.0               2     92000.0     1\n",
       "3  1810066       7000         14         8.0               1     57000.0     0\n",
       "4  1810067      15000         11         2.0               1     86000.0     0"
      ]
     },
     "execution_count": 33,
     "metadata": {},
     "output_type": "execute_result"
    }
   ],
   "source": [
    "lc_data.head()"
   ]
  },
  {
   "cell_type": "code",
   "execution_count": 34,
   "metadata": {},
   "outputs": [
    {
     "name": "stdout",
     "output_type": "stream",
     "text": [
      "<class 'pandas.core.frame.DataFrame'>\n",
      "Int64Index: 6644 entries, 0 to 7555\n",
      "Data columns (total 7 columns):\n",
      "loan_id           6644 non-null int64\n",
      "loan_amnt         6644 non-null int64\n",
      "emp_title         6644 non-null int64\n",
      "emp_length        6644 non-null float64\n",
      "home_ownership    6644 non-null int64\n",
      "annual_inc        6644 non-null float64\n",
      "term              6644 non-null int64\n",
      "dtypes: float64(2), int64(5)\n",
      "memory usage: 735.2 KB\n"
     ]
    }
   ],
   "source": [
    "lc_data.info()"
   ]
  },
  {
   "cell_type": "markdown",
   "metadata": {},
   "source": [
    "##### Above info shows that ObjectData types are changed into integer"
   ]
  },
  {
   "cell_type": "code",
   "execution_count": 35,
   "metadata": {},
   "outputs": [],
   "source": [
    "# counting total rows in the dataset\n",
    "count_row = lc_data.shape[0]"
   ]
  },
  {
   "cell_type": "code",
   "execution_count": 36,
   "metadata": {},
   "outputs": [
    {
     "data": {
      "text/plain": [
       "6644"
      ]
     },
     "execution_count": 36,
     "metadata": {},
     "output_type": "execute_result"
    }
   ],
   "source": [
    "count_row"
   ]
  },
  {
   "cell_type": "code",
   "execution_count": 37,
   "metadata": {},
   "outputs": [],
   "source": [
    "# Exporting cleaned datasets to new csv file \n",
    "lc_data.to_csv('clean_lc_data_02_may_2019.csv', index = False)"
   ]
  },
  {
   "cell_type": "markdown",
   "metadata": {},
   "source": [
    "### Data Modelling"
   ]
  },
  {
   "cell_type": "markdown",
   "metadata": {},
   "source": [
    "#### Importing Cleaned datasets"
   ]
  },
  {
   "cell_type": "code",
   "execution_count": 38,
   "metadata": {},
   "outputs": [],
   "source": [
    "lc_data = pd.read_csv('clean_lc_data_02_may_2019.csv')"
   ]
  },
  {
   "cell_type": "code",
   "execution_count": 39,
   "metadata": {},
   "outputs": [
    {
     "data": {
      "text/html": [
       "<div>\n",
       "<style scoped>\n",
       "    .dataframe tbody tr th:only-of-type {\n",
       "        vertical-align: middle;\n",
       "    }\n",
       "\n",
       "    .dataframe tbody tr th {\n",
       "        vertical-align: top;\n",
       "    }\n",
       "\n",
       "    .dataframe thead th {\n",
       "        text-align: right;\n",
       "    }\n",
       "</style>\n",
       "<table border=\"1\" class=\"dataframe\">\n",
       "  <thead>\n",
       "    <tr style=\"text-align: right;\">\n",
       "      <th></th>\n",
       "      <th>loan_id</th>\n",
       "      <th>loan_amnt</th>\n",
       "      <th>emp_title</th>\n",
       "      <th>emp_length</th>\n",
       "      <th>home_ownership</th>\n",
       "      <th>annual_inc</th>\n",
       "      <th>term</th>\n",
       "    </tr>\n",
       "  </thead>\n",
       "  <tbody>\n",
       "    <tr>\n",
       "      <th>0</th>\n",
       "      <td>1810063</td>\n",
       "      <td>23000</td>\n",
       "      <td>13</td>\n",
       "      <td>4.0</td>\n",
       "      <td>1</td>\n",
       "      <td>110000.0</td>\n",
       "      <td>1</td>\n",
       "    </tr>\n",
       "    <tr>\n",
       "      <th>1</th>\n",
       "      <td>1810064</td>\n",
       "      <td>35000</td>\n",
       "      <td>13</td>\n",
       "      <td>9.0</td>\n",
       "      <td>1</td>\n",
       "      <td>450000.0</td>\n",
       "      <td>0</td>\n",
       "    </tr>\n",
       "    <tr>\n",
       "      <th>2</th>\n",
       "      <td>1810065</td>\n",
       "      <td>20000</td>\n",
       "      <td>3</td>\n",
       "      <td>10.0</td>\n",
       "      <td>2</td>\n",
       "      <td>92000.0</td>\n",
       "      <td>1</td>\n",
       "    </tr>\n",
       "    <tr>\n",
       "      <th>3</th>\n",
       "      <td>1810066</td>\n",
       "      <td>7000</td>\n",
       "      <td>14</td>\n",
       "      <td>8.0</td>\n",
       "      <td>1</td>\n",
       "      <td>57000.0</td>\n",
       "      <td>0</td>\n",
       "    </tr>\n",
       "    <tr>\n",
       "      <th>4</th>\n",
       "      <td>1810067</td>\n",
       "      <td>15000</td>\n",
       "      <td>11</td>\n",
       "      <td>2.0</td>\n",
       "      <td>1</td>\n",
       "      <td>86000.0</td>\n",
       "      <td>0</td>\n",
       "    </tr>\n",
       "  </tbody>\n",
       "</table>\n",
       "</div>"
      ],
      "text/plain": [
       "   loan_id  loan_amnt  emp_title  emp_length  home_ownership  annual_inc  term\n",
       "0  1810063      23000         13         4.0               1    110000.0     1\n",
       "1  1810064      35000         13         9.0               1    450000.0     0\n",
       "2  1810065      20000          3        10.0               2     92000.0     1\n",
       "3  1810066       7000         14         8.0               1     57000.0     0\n",
       "4  1810067      15000         11         2.0               1     86000.0     0"
      ]
     },
     "execution_count": 39,
     "metadata": {},
     "output_type": "execute_result"
    }
   ],
   "source": [
    "lc_data.head()"
   ]
  },
  {
   "cell_type": "code",
   "execution_count": 40,
   "metadata": {},
   "outputs": [
    {
     "name": "stdout",
     "output_type": "stream",
     "text": [
      "<class 'pandas.core.frame.DataFrame'>\n",
      "RangeIndex: 6644 entries, 0 to 6643\n",
      "Data columns (total 7 columns):\n",
      "loan_id           6644 non-null int64\n",
      "loan_amnt         6644 non-null int64\n",
      "emp_title         6644 non-null int64\n",
      "emp_length        6644 non-null float64\n",
      "home_ownership    6644 non-null int64\n",
      "annual_inc        6644 non-null float64\n",
      "term              6644 non-null int64\n",
      "dtypes: float64(2), int64(5)\n",
      "memory usage: 363.5 KB\n"
     ]
    }
   ],
   "source": [
    "lc_data.info()"
   ]
  },
  {
   "cell_type": "markdown",
   "metadata": {},
   "source": [
    "##### Splitting test and training set"
   ]
  },
  {
   "cell_type": "code",
   "execution_count": 41,
   "metadata": {},
   "outputs": [],
   "source": [
    "# data are loaded into cols\n",
    "cols = lc_data.columns\n",
    "\n",
    "# drop term column from the cols\n",
    "train_cols = cols.drop('term')\n",
    "\n",
    "# assigning feature for model, by removing term column\n",
    "features = lc_data[train_cols]\n",
    "\n",
    "# assigining target to response variable\n",
    "target = lc_data['term']\n",
    "\n",
    "# splitting training and testing data set\n",
    "from sklearn.model_selection import train_test_split\n",
    "X_train, X_test, y_train, y_test = train_test_split(features, target, test_size = 0.1)"
   ]
  },
  {
   "cell_type": "code",
   "execution_count": 42,
   "metadata": {},
   "outputs": [
    {
     "name": "stdout",
     "output_type": "stream",
     "text": [
      "0.706472654290015\n"
     ]
    }
   ],
   "source": [
    "# creating LogisticRegression model\n",
    "from sklearn.linear_model import LogisticRegression \n",
    "\n",
    "lr  = LogisticRegression(class_weight=0.4, solver = 'lbfgs', max_iter = 1000) \n",
    "\n",
    "lr.fit(X_train, y_train) \n",
    "\n",
    "prediction_train = lr.predict(X_train)\n",
    "\n",
    "print(lr.score(X_train,y_train))"
   ]
  },
  {
   "cell_type": "code",
   "execution_count": 43,
   "metadata": {},
   "outputs": [
    {
     "name": "stdout",
     "output_type": "stream",
     "text": [
      "0.7263157894736842\n"
     ]
    }
   ],
   "source": [
    "prediction_test = lr.predict(X_test)\n",
    "\n",
    "# print(prediction_test)\n",
    "\n",
    "print(lr.score(X_test,y_test))"
   ]
  },
  {
   "cell_type": "markdown",
   "metadata": {},
   "source": [
    "### Prediction"
   ]
  },
  {
   "cell_type": "code",
   "execution_count": 44,
   "metadata": {},
   "outputs": [
    {
     "data": {
      "text/html": [
       "<div>\n",
       "<style scoped>\n",
       "    .dataframe tbody tr th:only-of-type {\n",
       "        vertical-align: middle;\n",
       "    }\n",
       "\n",
       "    .dataframe tbody tr th {\n",
       "        vertical-align: top;\n",
       "    }\n",
       "\n",
       "    .dataframe thead th {\n",
       "        text-align: right;\n",
       "    }\n",
       "</style>\n",
       "<table border=\"1\" class=\"dataframe\">\n",
       "  <thead>\n",
       "    <tr style=\"text-align: right;\">\n",
       "      <th></th>\n",
       "      <th>loan_id</th>\n",
       "      <th>loan_amnt</th>\n",
       "      <th>emp_title</th>\n",
       "      <th>emp_length</th>\n",
       "      <th>home_ownership</th>\n",
       "      <th>annual_inc</th>\n",
       "    </tr>\n",
       "  </thead>\n",
       "  <tbody>\n",
       "    <tr>\n",
       "      <th>985</th>\n",
       "      <td>1811227</td>\n",
       "      <td>3000</td>\n",
       "      <td>13</td>\n",
       "      <td>3.0</td>\n",
       "      <td>2</td>\n",
       "      <td>20167.0</td>\n",
       "    </tr>\n",
       "    <tr>\n",
       "      <th>6018</th>\n",
       "      <td>1910432</td>\n",
       "      <td>19500</td>\n",
       "      <td>19</td>\n",
       "      <td>6.0</td>\n",
       "      <td>1</td>\n",
       "      <td>100000.0</td>\n",
       "    </tr>\n",
       "    <tr>\n",
       "      <th>3899</th>\n",
       "      <td>1831412</td>\n",
       "      <td>10000</td>\n",
       "      <td>19</td>\n",
       "      <td>10.0</td>\n",
       "      <td>2</td>\n",
       "      <td>66500.0</td>\n",
       "    </tr>\n",
       "    <tr>\n",
       "      <th>1717</th>\n",
       "      <td>1820518</td>\n",
       "      <td>10000</td>\n",
       "      <td>13</td>\n",
       "      <td>10.0</td>\n",
       "      <td>2</td>\n",
       "      <td>25000.0</td>\n",
       "    </tr>\n",
       "    <tr>\n",
       "      <th>1477</th>\n",
       "      <td>1811262</td>\n",
       "      <td>10000</td>\n",
       "      <td>19</td>\n",
       "      <td>3.0</td>\n",
       "      <td>2</td>\n",
       "      <td>48000.0</td>\n",
       "    </tr>\n",
       "  </tbody>\n",
       "</table>\n",
       "</div>"
      ],
      "text/plain": [
       "      loan_id  loan_amnt  emp_title  emp_length  home_ownership  annual_inc\n",
       "985   1811227       3000         13         3.0               2     20167.0\n",
       "6018  1910432      19500         19         6.0               1    100000.0\n",
       "3899  1831412      10000         19        10.0               2     66500.0\n",
       "1717  1820518      10000         13        10.0               2     25000.0\n",
       "1477  1811262      10000         19         3.0               2     48000.0"
      ]
     },
     "execution_count": 44,
     "metadata": {},
     "output_type": "execute_result"
    }
   ],
   "source": [
    "# testing set\n",
    "X_test.head()"
   ]
  },
  {
   "cell_type": "code",
   "execution_count": 45,
   "metadata": {},
   "outputs": [],
   "source": [
    "# Exporting testing datasets to new csv file \n",
    "X_test.to_csv('clean_testing_set_02_may_2019.csv', index = False)"
   ]
  },
  {
   "cell_type": "code",
   "execution_count": 46,
   "metadata": {},
   "outputs": [],
   "source": [
    "# Read Testing Datasets\n",
    "testing_data = pd.read_csv('clean_testing_set_02_may_2019.csv',sep=',')"
   ]
  },
  {
   "cell_type": "code",
   "execution_count": 47,
   "metadata": {},
   "outputs": [
    {
     "data": {
      "text/html": [
       "<div>\n",
       "<style scoped>\n",
       "    .dataframe tbody tr th:only-of-type {\n",
       "        vertical-align: middle;\n",
       "    }\n",
       "\n",
       "    .dataframe tbody tr th {\n",
       "        vertical-align: top;\n",
       "    }\n",
       "\n",
       "    .dataframe thead th {\n",
       "        text-align: right;\n",
       "    }\n",
       "</style>\n",
       "<table border=\"1\" class=\"dataframe\">\n",
       "  <thead>\n",
       "    <tr style=\"text-align: right;\">\n",
       "      <th></th>\n",
       "      <th>loan_id</th>\n",
       "      <th>loan_amnt</th>\n",
       "      <th>emp_title</th>\n",
       "      <th>emp_length</th>\n",
       "      <th>home_ownership</th>\n",
       "      <th>annual_inc</th>\n",
       "    </tr>\n",
       "  </thead>\n",
       "  <tbody>\n",
       "    <tr>\n",
       "      <th>0</th>\n",
       "      <td>1811227</td>\n",
       "      <td>3000</td>\n",
       "      <td>13</td>\n",
       "      <td>3.0</td>\n",
       "      <td>2</td>\n",
       "      <td>20167.0</td>\n",
       "    </tr>\n",
       "    <tr>\n",
       "      <th>1</th>\n",
       "      <td>1910432</td>\n",
       "      <td>19500</td>\n",
       "      <td>19</td>\n",
       "      <td>6.0</td>\n",
       "      <td>1</td>\n",
       "      <td>100000.0</td>\n",
       "    </tr>\n",
       "    <tr>\n",
       "      <th>2</th>\n",
       "      <td>1831412</td>\n",
       "      <td>10000</td>\n",
       "      <td>19</td>\n",
       "      <td>10.0</td>\n",
       "      <td>2</td>\n",
       "      <td>66500.0</td>\n",
       "    </tr>\n",
       "    <tr>\n",
       "      <th>3</th>\n",
       "      <td>1820518</td>\n",
       "      <td>10000</td>\n",
       "      <td>13</td>\n",
       "      <td>10.0</td>\n",
       "      <td>2</td>\n",
       "      <td>25000.0</td>\n",
       "    </tr>\n",
       "    <tr>\n",
       "      <th>4</th>\n",
       "      <td>1811262</td>\n",
       "      <td>10000</td>\n",
       "      <td>19</td>\n",
       "      <td>3.0</td>\n",
       "      <td>2</td>\n",
       "      <td>48000.0</td>\n",
       "    </tr>\n",
       "  </tbody>\n",
       "</table>\n",
       "</div>"
      ],
      "text/plain": [
       "   loan_id  loan_amnt  emp_title  emp_length  home_ownership  annual_inc\n",
       "0  1811227       3000         13         3.0               2     20167.0\n",
       "1  1910432      19500         19         6.0               1    100000.0\n",
       "2  1831412      10000         19        10.0               2     66500.0\n",
       "3  1820518      10000         13        10.0               2     25000.0\n",
       "4  1811262      10000         19         3.0               2     48000.0"
      ]
     },
     "execution_count": 47,
     "metadata": {},
     "output_type": "execute_result"
    }
   ],
   "source": [
    "testing_data.head()"
   ]
  },
  {
   "cell_type": "code",
   "execution_count": 48,
   "metadata": {},
   "outputs": [],
   "source": [
    "predicted_test = pd.DataFrame(prediction_test)"
   ]
  },
  {
   "cell_type": "code",
   "execution_count": 49,
   "metadata": {},
   "outputs": [],
   "source": [
    "# adding Prediction column \n",
    "testing_data['Prediction'] = predicted_test"
   ]
  },
  {
   "cell_type": "code",
   "execution_count": 381,
   "metadata": {},
   "outputs": [
    {
     "data": {
      "text/html": [
       "<div>\n",
       "<style scoped>\n",
       "    .dataframe tbody tr th:only-of-type {\n",
       "        vertical-align: middle;\n",
       "    }\n",
       "\n",
       "    .dataframe tbody tr th {\n",
       "        vertical-align: top;\n",
       "    }\n",
       "\n",
       "    .dataframe thead th {\n",
       "        text-align: right;\n",
       "    }\n",
       "</style>\n",
       "<table border=\"1\" class=\"dataframe\">\n",
       "  <thead>\n",
       "    <tr style=\"text-align: right;\">\n",
       "      <th></th>\n",
       "      <th>loan_id</th>\n",
       "      <th>loan_amnt</th>\n",
       "      <th>emp_title</th>\n",
       "      <th>emp_length</th>\n",
       "      <th>home_ownership</th>\n",
       "      <th>annual_inc</th>\n",
       "      <th>Prediction</th>\n",
       "    </tr>\n",
       "  </thead>\n",
       "  <tbody>\n",
       "    <tr>\n",
       "      <th>0</th>\n",
       "      <td>1820492</td>\n",
       "      <td>40000</td>\n",
       "      <td>16</td>\n",
       "      <td>4.0</td>\n",
       "      <td>2</td>\n",
       "      <td>68290.0</td>\n",
       "      <td>1</td>\n",
       "    </tr>\n",
       "    <tr>\n",
       "      <th>1</th>\n",
       "      <td>1911189</td>\n",
       "      <td>5000</td>\n",
       "      <td>8</td>\n",
       "      <td>3.0</td>\n",
       "      <td>2</td>\n",
       "      <td>46000.0</td>\n",
       "      <td>0</td>\n",
       "    </tr>\n",
       "    <tr>\n",
       "      <th>2</th>\n",
       "      <td>1810135</td>\n",
       "      <td>15000</td>\n",
       "      <td>10</td>\n",
       "      <td>6.0</td>\n",
       "      <td>2</td>\n",
       "      <td>96000.0</td>\n",
       "      <td>0</td>\n",
       "    </tr>\n",
       "    <tr>\n",
       "      <th>3</th>\n",
       "      <td>1830524</td>\n",
       "      <td>15000</td>\n",
       "      <td>14</td>\n",
       "      <td>5.0</td>\n",
       "      <td>2</td>\n",
       "      <td>40000.0</td>\n",
       "      <td>0</td>\n",
       "    </tr>\n",
       "    <tr>\n",
       "      <th>4</th>\n",
       "      <td>1841464</td>\n",
       "      <td>10000</td>\n",
       "      <td>4</td>\n",
       "      <td>2.0</td>\n",
       "      <td>1</td>\n",
       "      <td>120000.0</td>\n",
       "      <td>0</td>\n",
       "    </tr>\n",
       "  </tbody>\n",
       "</table>\n",
       "</div>"
      ],
      "text/plain": [
       "   loan_id  loan_amnt  emp_title  emp_length  home_ownership  annual_inc  \\\n",
       "0  1820492      40000         16         4.0               2     68290.0   \n",
       "1  1911189       5000          8         3.0               2     46000.0   \n",
       "2  1810135      15000         10         6.0               2     96000.0   \n",
       "3  1830524      15000         14         5.0               2     40000.0   \n",
       "4  1841464      10000          4         2.0               1    120000.0   \n",
       "\n",
       "   Prediction  \n",
       "0           1  \n",
       "1           0  \n",
       "2           0  \n",
       "3           0  \n",
       "4           0  "
      ]
     },
     "execution_count": 381,
     "metadata": {},
     "output_type": "execute_result"
    }
   ],
   "source": [
    "testing_data.head()"
   ]
  },
  {
   "cell_type": "code",
   "execution_count": 382,
   "metadata": {},
   "outputs": [],
   "source": [
    "test_data_frame = testing_data[['loan_id','Prediction']]"
   ]
  },
  {
   "cell_type": "code",
   "execution_count": 383,
   "metadata": {},
   "outputs": [
    {
     "data": {
      "text/html": [
       "<div>\n",
       "<style scoped>\n",
       "    .dataframe tbody tr th:only-of-type {\n",
       "        vertical-align: middle;\n",
       "    }\n",
       "\n",
       "    .dataframe tbody tr th {\n",
       "        vertical-align: top;\n",
       "    }\n",
       "\n",
       "    .dataframe thead th {\n",
       "        text-align: right;\n",
       "    }\n",
       "</style>\n",
       "<table border=\"1\" class=\"dataframe\">\n",
       "  <thead>\n",
       "    <tr style=\"text-align: right;\">\n",
       "      <th></th>\n",
       "      <th>loan_id</th>\n",
       "      <th>Prediction</th>\n",
       "    </tr>\n",
       "  </thead>\n",
       "  <tbody>\n",
       "    <tr>\n",
       "      <th>0</th>\n",
       "      <td>1820492</td>\n",
       "      <td>1</td>\n",
       "    </tr>\n",
       "    <tr>\n",
       "      <th>1</th>\n",
       "      <td>1911189</td>\n",
       "      <td>0</td>\n",
       "    </tr>\n",
       "    <tr>\n",
       "      <th>2</th>\n",
       "      <td>1810135</td>\n",
       "      <td>0</td>\n",
       "    </tr>\n",
       "    <tr>\n",
       "      <th>3</th>\n",
       "      <td>1830524</td>\n",
       "      <td>0</td>\n",
       "    </tr>\n",
       "    <tr>\n",
       "      <th>4</th>\n",
       "      <td>1841464</td>\n",
       "      <td>0</td>\n",
       "    </tr>\n",
       "  </tbody>\n",
       "</table>\n",
       "</div>"
      ],
      "text/plain": [
       "   loan_id  Prediction\n",
       "0  1820492           1\n",
       "1  1911189           0\n",
       "2  1810135           0\n",
       "3  1830524           0\n",
       "4  1841464           0"
      ]
     },
     "execution_count": 383,
     "metadata": {},
     "output_type": "execute_result"
    }
   ],
   "source": [
    "test_data_frame.head()"
   ]
  },
  {
   "cell_type": "code",
   "execution_count": 384,
   "metadata": {},
   "outputs": [],
   "source": [
    "# Exporting predicted test set to new csv file \n",
    "test_data_frame.to_csv('predicted_test_set_02_may_2019.csv', index = False)"
   ]
  },
  {
   "cell_type": "code",
   "execution_count": 385,
   "metadata": {},
   "outputs": [
    {
     "data": {
      "text/html": [
       "<div>\n",
       "<style scoped>\n",
       "    .dataframe tbody tr th:only-of-type {\n",
       "        vertical-align: middle;\n",
       "    }\n",
       "\n",
       "    .dataframe tbody tr th {\n",
       "        vertical-align: top;\n",
       "    }\n",
       "\n",
       "    .dataframe thead th {\n",
       "        text-align: right;\n",
       "    }\n",
       "</style>\n",
       "<table border=\"1\" class=\"dataframe\">\n",
       "  <thead>\n",
       "    <tr style=\"text-align: right;\">\n",
       "      <th></th>\n",
       "      <th>loan_id</th>\n",
       "      <th>loan_amnt</th>\n",
       "      <th>emp_title</th>\n",
       "      <th>emp_length</th>\n",
       "      <th>home_ownership</th>\n",
       "      <th>annual_inc</th>\n",
       "    </tr>\n",
       "  </thead>\n",
       "  <tbody>\n",
       "    <tr>\n",
       "      <th>2080</th>\n",
       "      <td>1820910</td>\n",
       "      <td>7200</td>\n",
       "      <td>14</td>\n",
       "      <td>10.0</td>\n",
       "      <td>1</td>\n",
       "      <td>72000.0</td>\n",
       "    </tr>\n",
       "    <tr>\n",
       "      <th>2573</th>\n",
       "      <td>1821447</td>\n",
       "      <td>15000</td>\n",
       "      <td>2</td>\n",
       "      <td>10.0</td>\n",
       "      <td>1</td>\n",
       "      <td>75000.0</td>\n",
       "    </tr>\n",
       "    <tr>\n",
       "      <th>4225</th>\n",
       "      <td>1840263</td>\n",
       "      <td>16000</td>\n",
       "      <td>19</td>\n",
       "      <td>5.0</td>\n",
       "      <td>1</td>\n",
       "      <td>138300.0</td>\n",
       "    </tr>\n",
       "    <tr>\n",
       "      <th>2325</th>\n",
       "      <td>1821184</td>\n",
       "      <td>10000</td>\n",
       "      <td>18</td>\n",
       "      <td>2.0</td>\n",
       "      <td>1</td>\n",
       "      <td>34500.0</td>\n",
       "    </tr>\n",
       "    <tr>\n",
       "      <th>1016</th>\n",
       "      <td>1810821</td>\n",
       "      <td>23000</td>\n",
       "      <td>1</td>\n",
       "      <td>2.0</td>\n",
       "      <td>1</td>\n",
       "      <td>105000.0</td>\n",
       "    </tr>\n",
       "  </tbody>\n",
       "</table>\n",
       "</div>"
      ],
      "text/plain": [
       "      loan_id  loan_amnt  emp_title  emp_length  home_ownership  annual_inc\n",
       "2080  1820910       7200         14        10.0               1     72000.0\n",
       "2573  1821447      15000          2        10.0               1     75000.0\n",
       "4225  1840263      16000         19         5.0               1    138300.0\n",
       "2325  1821184      10000         18         2.0               1     34500.0\n",
       "1016  1810821      23000          1         2.0               1    105000.0"
      ]
     },
     "execution_count": 385,
     "metadata": {},
     "output_type": "execute_result"
    }
   ],
   "source": [
    "# training set\n",
    "X_train.head()"
   ]
  },
  {
   "cell_type": "code",
   "execution_count": 386,
   "metadata": {},
   "outputs": [],
   "source": [
    "# Exporting training datasets to new csv file \n",
    "X_train.to_csv('clean_training_set_02_may_2019.csv', index = False)"
   ]
  },
  {
   "cell_type": "code",
   "execution_count": 387,
   "metadata": {},
   "outputs": [],
   "source": [
    "training_data = pd.read_csv('clean_training_set_02_may_2019.csv',sep=',')"
   ]
  },
  {
   "cell_type": "code",
   "execution_count": 388,
   "metadata": {},
   "outputs": [
    {
     "data": {
      "text/html": [
       "<div>\n",
       "<style scoped>\n",
       "    .dataframe tbody tr th:only-of-type {\n",
       "        vertical-align: middle;\n",
       "    }\n",
       "\n",
       "    .dataframe tbody tr th {\n",
       "        vertical-align: top;\n",
       "    }\n",
       "\n",
       "    .dataframe thead th {\n",
       "        text-align: right;\n",
       "    }\n",
       "</style>\n",
       "<table border=\"1\" class=\"dataframe\">\n",
       "  <thead>\n",
       "    <tr style=\"text-align: right;\">\n",
       "      <th></th>\n",
       "      <th>loan_id</th>\n",
       "      <th>loan_amnt</th>\n",
       "      <th>emp_title</th>\n",
       "      <th>emp_length</th>\n",
       "      <th>home_ownership</th>\n",
       "      <th>annual_inc</th>\n",
       "    </tr>\n",
       "  </thead>\n",
       "  <tbody>\n",
       "    <tr>\n",
       "      <th>0</th>\n",
       "      <td>1820910</td>\n",
       "      <td>7200</td>\n",
       "      <td>14</td>\n",
       "      <td>10.0</td>\n",
       "      <td>1</td>\n",
       "      <td>72000.0</td>\n",
       "    </tr>\n",
       "    <tr>\n",
       "      <th>1</th>\n",
       "      <td>1821447</td>\n",
       "      <td>15000</td>\n",
       "      <td>2</td>\n",
       "      <td>10.0</td>\n",
       "      <td>1</td>\n",
       "      <td>75000.0</td>\n",
       "    </tr>\n",
       "    <tr>\n",
       "      <th>2</th>\n",
       "      <td>1840263</td>\n",
       "      <td>16000</td>\n",
       "      <td>19</td>\n",
       "      <td>5.0</td>\n",
       "      <td>1</td>\n",
       "      <td>138300.0</td>\n",
       "    </tr>\n",
       "    <tr>\n",
       "      <th>3</th>\n",
       "      <td>1821184</td>\n",
       "      <td>10000</td>\n",
       "      <td>18</td>\n",
       "      <td>2.0</td>\n",
       "      <td>1</td>\n",
       "      <td>34500.0</td>\n",
       "    </tr>\n",
       "    <tr>\n",
       "      <th>4</th>\n",
       "      <td>1810821</td>\n",
       "      <td>23000</td>\n",
       "      <td>1</td>\n",
       "      <td>2.0</td>\n",
       "      <td>1</td>\n",
       "      <td>105000.0</td>\n",
       "    </tr>\n",
       "  </tbody>\n",
       "</table>\n",
       "</div>"
      ],
      "text/plain": [
       "   loan_id  loan_amnt  emp_title  emp_length  home_ownership  annual_inc\n",
       "0  1820910       7200         14        10.0               1     72000.0\n",
       "1  1821447      15000          2        10.0               1     75000.0\n",
       "2  1840263      16000         19         5.0               1    138300.0\n",
       "3  1821184      10000         18         2.0               1     34500.0\n",
       "4  1810821      23000          1         2.0               1    105000.0"
      ]
     },
     "execution_count": 388,
     "metadata": {},
     "output_type": "execute_result"
    }
   ],
   "source": [
    "training_data.head()"
   ]
  },
  {
   "cell_type": "code",
   "execution_count": 389,
   "metadata": {},
   "outputs": [],
   "source": [
    "predicted_train = pd.DataFrame(prediction_train)"
   ]
  },
  {
   "cell_type": "code",
   "execution_count": 390,
   "metadata": {},
   "outputs": [],
   "source": [
    "# adding Prediction column\n",
    "training_data['Prediction'] = predicted_train"
   ]
  },
  {
   "cell_type": "code",
   "execution_count": 391,
   "metadata": {},
   "outputs": [
    {
     "data": {
      "text/html": [
       "<div>\n",
       "<style scoped>\n",
       "    .dataframe tbody tr th:only-of-type {\n",
       "        vertical-align: middle;\n",
       "    }\n",
       "\n",
       "    .dataframe tbody tr th {\n",
       "        vertical-align: top;\n",
       "    }\n",
       "\n",
       "    .dataframe thead th {\n",
       "        text-align: right;\n",
       "    }\n",
       "</style>\n",
       "<table border=\"1\" class=\"dataframe\">\n",
       "  <thead>\n",
       "    <tr style=\"text-align: right;\">\n",
       "      <th></th>\n",
       "      <th>loan_id</th>\n",
       "      <th>loan_amnt</th>\n",
       "      <th>emp_title</th>\n",
       "      <th>emp_length</th>\n",
       "      <th>home_ownership</th>\n",
       "      <th>annual_inc</th>\n",
       "      <th>Prediction</th>\n",
       "    </tr>\n",
       "  </thead>\n",
       "  <tbody>\n",
       "    <tr>\n",
       "      <th>0</th>\n",
       "      <td>1820910</td>\n",
       "      <td>7200</td>\n",
       "      <td>14</td>\n",
       "      <td>10.0</td>\n",
       "      <td>1</td>\n",
       "      <td>72000.0</td>\n",
       "      <td>0</td>\n",
       "    </tr>\n",
       "    <tr>\n",
       "      <th>1</th>\n",
       "      <td>1821447</td>\n",
       "      <td>15000</td>\n",
       "      <td>2</td>\n",
       "      <td>10.0</td>\n",
       "      <td>1</td>\n",
       "      <td>75000.0</td>\n",
       "      <td>0</td>\n",
       "    </tr>\n",
       "    <tr>\n",
       "      <th>2</th>\n",
       "      <td>1840263</td>\n",
       "      <td>16000</td>\n",
       "      <td>19</td>\n",
       "      <td>5.0</td>\n",
       "      <td>1</td>\n",
       "      <td>138300.0</td>\n",
       "      <td>0</td>\n",
       "    </tr>\n",
       "    <tr>\n",
       "      <th>3</th>\n",
       "      <td>1821184</td>\n",
       "      <td>10000</td>\n",
       "      <td>18</td>\n",
       "      <td>2.0</td>\n",
       "      <td>1</td>\n",
       "      <td>34500.0</td>\n",
       "      <td>0</td>\n",
       "    </tr>\n",
       "    <tr>\n",
       "      <th>4</th>\n",
       "      <td>1810821</td>\n",
       "      <td>23000</td>\n",
       "      <td>1</td>\n",
       "      <td>2.0</td>\n",
       "      <td>1</td>\n",
       "      <td>105000.0</td>\n",
       "      <td>0</td>\n",
       "    </tr>\n",
       "  </tbody>\n",
       "</table>\n",
       "</div>"
      ],
      "text/plain": [
       "   loan_id  loan_amnt  emp_title  emp_length  home_ownership  annual_inc  \\\n",
       "0  1820910       7200         14        10.0               1     72000.0   \n",
       "1  1821447      15000          2        10.0               1     75000.0   \n",
       "2  1840263      16000         19         5.0               1    138300.0   \n",
       "3  1821184      10000         18         2.0               1     34500.0   \n",
       "4  1810821      23000          1         2.0               1    105000.0   \n",
       "\n",
       "   Prediction  \n",
       "0           0  \n",
       "1           0  \n",
       "2           0  \n",
       "3           0  \n",
       "4           0  "
      ]
     },
     "execution_count": 391,
     "metadata": {},
     "output_type": "execute_result"
    }
   ],
   "source": [
    "training_data.head()"
   ]
  },
  {
   "cell_type": "code",
   "execution_count": 392,
   "metadata": {},
   "outputs": [],
   "source": [
    "train_data_frame = training_data[['loan_id','Prediction']]"
   ]
  },
  {
   "cell_type": "code",
   "execution_count": 393,
   "metadata": {},
   "outputs": [
    {
     "data": {
      "text/html": [
       "<div>\n",
       "<style scoped>\n",
       "    .dataframe tbody tr th:only-of-type {\n",
       "        vertical-align: middle;\n",
       "    }\n",
       "\n",
       "    .dataframe tbody tr th {\n",
       "        vertical-align: top;\n",
       "    }\n",
       "\n",
       "    .dataframe thead th {\n",
       "        text-align: right;\n",
       "    }\n",
       "</style>\n",
       "<table border=\"1\" class=\"dataframe\">\n",
       "  <thead>\n",
       "    <tr style=\"text-align: right;\">\n",
       "      <th></th>\n",
       "      <th>loan_id</th>\n",
       "      <th>Prediction</th>\n",
       "    </tr>\n",
       "  </thead>\n",
       "  <tbody>\n",
       "    <tr>\n",
       "      <th>0</th>\n",
       "      <td>1820910</td>\n",
       "      <td>0</td>\n",
       "    </tr>\n",
       "    <tr>\n",
       "      <th>1</th>\n",
       "      <td>1821447</td>\n",
       "      <td>0</td>\n",
       "    </tr>\n",
       "    <tr>\n",
       "      <th>2</th>\n",
       "      <td>1840263</td>\n",
       "      <td>0</td>\n",
       "    </tr>\n",
       "    <tr>\n",
       "      <th>3</th>\n",
       "      <td>1821184</td>\n",
       "      <td>0</td>\n",
       "    </tr>\n",
       "    <tr>\n",
       "      <th>4</th>\n",
       "      <td>1810821</td>\n",
       "      <td>0</td>\n",
       "    </tr>\n",
       "  </tbody>\n",
       "</table>\n",
       "</div>"
      ],
      "text/plain": [
       "   loan_id  Prediction\n",
       "0  1820910           0\n",
       "1  1821447           0\n",
       "2  1840263           0\n",
       "3  1821184           0\n",
       "4  1810821           0"
      ]
     },
     "execution_count": 393,
     "metadata": {},
     "output_type": "execute_result"
    }
   ],
   "source": [
    "train_data_frame.head()"
   ]
  },
  {
   "cell_type": "code",
   "execution_count": 394,
   "metadata": {},
   "outputs": [],
   "source": [
    "# Exporting predicted train set to new csv file \n",
    "train_data_frame.to_csv('predicted_train_set_02_may_2019.csv', index = False)"
   ]
  }
 ],
 "metadata": {
  "kernelspec": {
   "display_name": "Python 3",
   "language": "python",
   "name": "python3"
  },
  "language_info": {
   "codemirror_mode": {
    "name": "ipython",
    "version": 3
   },
   "file_extension": ".py",
   "mimetype": "text/x-python",
   "name": "python",
   "nbconvert_exporter": "python",
   "pygments_lexer": "ipython3",
   "version": "3.7.4"
  }
 },
 "nbformat": 4,
 "nbformat_minor": 2
}
